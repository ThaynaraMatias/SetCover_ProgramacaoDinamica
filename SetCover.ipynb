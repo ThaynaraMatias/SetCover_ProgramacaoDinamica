{
  "nbformat": 4,
  "nbformat_minor": 0,
  "metadata": {
    "colab": {
      "provenance": [],
      "authorship_tag": "ABX9TyNjUK3U/IC1Te4jYQgPJ4pd",
      "include_colab_link": true
    },
    "kernelspec": {
      "name": "python3",
      "display_name": "Python 3"
    },
    "language_info": {
      "name": "python"
    }
  },
  "cells": [
    {
      "cell_type": "markdown",
      "metadata": {
        "id": "view-in-github",
        "colab_type": "text"
      },
      "source": [
        "<a href=\"https://colab.research.google.com/github/ThaynaraMatias/SetCover_ProgramacaoDinamica/blob/main/SetCover.ipynb\" target=\"_parent\"><img src=\"https://colab.research.google.com/assets/colab-badge.svg\" alt=\"Open In Colab\"/></a>"
      ]
    },
    {
      "cell_type": "code",
      "source": [
        "import numpy as np\n",
        "from itertools import combinations"
      ],
      "metadata": {
        "id": "ptON_VXYB48l"
      },
      "execution_count": null,
      "outputs": []
    },
    {
      "cell_type": "code",
      "source": [
        "# Primeiro Bloco: Leitura do Arquivo\n",
        "def ler_instancia(nome_arquivo):\n",
        "    with open(nome_arquivo, 'r') as arquivo:\n",
        "        E = int(arquivo.readline().strip())\n",
        "        n = int(arquivo.readline().strip())\n",
        "        subconjuntos = [list(map(int, arquivo.readline().strip().split())) for _ in range(n)]\n",
        "    return E, subconjuntos"
      ],
      "metadata": {
        "id": "yhCk9E-PK0WH"
      },
      "execution_count": null,
      "outputs": []
    },
    {
      "cell_type": "code",
      "source": [
        "# Segundo Bloco: Encontrar a Solução Ótima\n",
        "def encontrar_cobertura_otima(E, subconjuntos):\n",
        "\n",
        "    universo = set(range(E))\n",
        "    melhor_cobertura = None\n",
        "    menor_tamanho = float('inf')\n",
        "\n",
        "    for r in range(1, len(subconjuntos) + 1):\n",
        "        for combinacao_subconjuntos in combinations(enumerate(subconjuntos), r):\n",
        "            conjunto_combinado = set()\n",
        "            indices = []\n",
        "            for indice, subconjunto in combinacao_subconjuntos:\n",
        "                conjunto_combinado.update(subconjunto)\n",
        "                indices.append(indice + 1)  # Ajustando índice para saída baseada em 1\n",
        "            if conjunto_combinado == universo and r < menor_tamanho:\n",
        "                melhor_cobertura = indices\n",
        "                menor_tamanho = r\n",
        "\n",
        "    return melhor_cobertura, menor_tamanho"
      ],
      "metadata": {
        "id": "dZaEqky2K4TC"
      },
      "execution_count": null,
      "outputs": []
    },
    {
      "cell_type": "code",
      "source": [
        "# Terceiro Bloco: Saída dos Resultados\n",
        "def resultados(solucao, valor_objetivo):\n",
        "    print(f\"Valor da função objetivo = {valor_objetivo}\")\n",
        "    print(f\"Subconjuntos utilizados: {', '.join(map(str, solucao))}\")"
      ],
      "metadata": {
        "id": "0Hg5ct-gK5KZ"
      },
      "execution_count": null,
      "outputs": []
    },
    {
      "cell_type": "code",
      "source": [
        "# Exemplo de execução\n",
        "E, subconjuntos = ler_instancia('instancia1.txt')\n",
        "solucao, valor_objetivo = encontrar_cobertura_otima(E, subconjuntos)\n",
        "resultados(solucao, valor_objetivo)"
      ],
      "metadata": {
        "id": "l1GZDM3CylC_",
        "outputId": "c63d70cf-2d28-44cb-c6f9-80041c80637a",
        "colab": {
          "base_uri": "https://localhost:8080/"
        }
      },
      "execution_count": null,
      "outputs": [
        {
          "output_type": "stream",
          "name": "stdout",
          "text": [
            "Valor da função objetivo = 3\n",
            "Subconjuntos utilizados: 2, 3, 5\n"
          ]
        }
      ]
    },
    {
      "cell_type": "code",
      "source": [
        "# Exemplo de execução\n",
        "E, subconjuntos = ler_instancia('instancia2.txt')\n",
        "solucao, valor_objetivo = encontrar_cobertura_otima(E, subconjuntos)\n",
        "resultados(solucao, valor_objetivo)"
      ],
      "metadata": {
        "colab": {
          "base_uri": "https://localhost:8080/"
        },
        "id": "Um46g71DM29a",
        "outputId": "deef385d-208e-4cd4-9225-2bf0d1806540"
      },
      "execution_count": null,
      "outputs": [
        {
          "output_type": "stream",
          "name": "stdout",
          "text": [
            "Valor da função objetivo = 2\n",
            "Subconjuntos utilizados: 4, 6\n"
          ]
        }
      ]
    },
    {
      "cell_type": "code",
      "source": [
        "# Exemplo de execução\n",
        "E, subconjuntos = ler_instancia('instancia3.txt')\n",
        "solucao, valor_objetivo = encontrar_cobertura_otima(E, subconjuntos)\n",
        "resultados(solucao, valor_objetivo)"
      ],
      "metadata": {
        "colab": {
          "base_uri": "https://localhost:8080/"
        },
        "id": "4vcXG7wZM7ZP",
        "outputId": "4f39f693-ec5a-4530-b3f5-7a64e6bcb90b"
      },
      "execution_count": null,
      "outputs": [
        {
          "output_type": "stream",
          "name": "stdout",
          "text": [
            "Valor da função objetivo = 3\n",
            "Subconjuntos utilizados: 2, 3, 5\n"
          ]
        }
      ]
    },
    {
      "cell_type": "code",
      "source": [
        "# Exemplo de execução\n",
        "E, subconjuntos = ler_instancia('instancia4.txt')\n",
        "solucao, valor_objetivo = encontrar_cobertura_otima(E, subconjuntos)\n",
        "resultados(solucao, valor_objetivo)"
      ],
      "metadata": {
        "colab": {
          "base_uri": "https://localhost:8080/"
        },
        "id": "u7xtc1IcM-lV",
        "outputId": "dde12020-0aac-44ed-aaea-867a56c2fdd6"
      },
      "execution_count": null,
      "outputs": [
        {
          "output_type": "stream",
          "name": "stdout",
          "text": [
            "Valor da função objetivo = 3\n",
            "Subconjuntos utilizados: 2, 5, 15\n"
          ]
        }
      ]
    }
  ]
}